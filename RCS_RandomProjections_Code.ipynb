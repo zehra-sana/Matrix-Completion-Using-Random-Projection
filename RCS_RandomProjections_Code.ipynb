{
 "cells": [
  {
   "cell_type": "markdown",
   "metadata": {},
   "source": [
    "# Initial Matrix with missing enteries"
   ]
  },
  {
   "cell_type": "code",
   "execution_count": 1,
   "metadata": {},
   "outputs": [
    {
     "name": "stdout",
     "output_type": "stream",
     "text": [
      "Rating Matrix:\n",
      " [[5. 3. 4. ... 0. 0. 0.]\n",
      " [4. 0. 0. ... 0. 0. 0.]\n",
      " [0. 0. 0. ... 0. 0. 0.]\n",
      " ...\n",
      " [5. 0. 0. ... 0. 0. 0.]\n",
      " [0. 0. 0. ... 0. 0. 0.]\n",
      " [0. 5. 0. ... 0. 0. 0.]]\n"
     ]
    }
   ],
   "source": [
    "import pandas as pd\n",
    "import numpy as np\n",
    "\n",
    "ratingsNames = [\"userId\", \"movieId\", \"rating\", \"timestamp\"]\n",
    "usersNames = [\"userId\", \"gender\", \"age\", \"occupation\", \"zipCode\"]\n",
    "moviesNames = [\"movieId\", \"title\", \"genres\"]\n",
    "\n",
    "#ratings = pd.read_table(\"simple-exp/rating1.dat\", header=None, sep=\"::\", names=ratingsNames)\n",
    "#users = pd.read_table(\"simple-exp/user1.dat\", header=None, sep=\"::\", names=usersNames)\n",
    "#movies = pd.read_table(\"simple-exp/mov1.dat\", header=None, sep=\"::\", names=moviesNames)\n",
    "\n",
    "#ratings = pd.read_table(\"ml-1m/ratings.dat\", header=None, sep=\"::\", names=ratingsNames)\n",
    "#users = pd.read_table(\"ml-1m/users.dat\", header=None, sep=\"::\", names=usersNames)\n",
    "#movies = pd.read_table(\"ml-1m/movies.dat\", header=None, sep=\"::\", names=moviesNames)\n",
    "\n",
    "ratings = pd.read_table(\"D:/RCS/ml-1L_1/ml-1L/ratings.csv\", header=None, sep=\",\", names=ratingsNames)\n",
    "\n",
    "ratingsMatrix = ratings.pivot_table(columns=['movieId'], index =['userId'], values='rating', dropna = False)\n",
    "\n",
    "ratingsMatrix = ratingsMatrix.fillna(0).values  #ratingsMatrix.fillna(0).as_matrix() deprecated\n",
    "\n",
    "\n",
    "print(\"Rating Matrix:\\n\",ratingsMatrix) "
   ]
  },
  {
   "cell_type": "markdown",
   "metadata": {},
   "source": [
    "# SVD"
   ]
  },
  {
   "cell_type": "code",
   "execution_count": 2,
   "metadata": {},
   "outputs": [],
   "source": [
    "import pandas as pd\n",
    "import numpy as np\n",
    "\n",
    "ratings_list = [i.strip().split(\"::\") for i in open('D:/RCS/ml-1m_1/ml-1m/ratings.dat', 'r').readlines()]\n",
    "users_list = [i.strip().split(\"::\") for i in open('D:/RCS/ml-1m_1/ml-1m/users.dat', 'r').readlines()]\n",
    "movies_list = [i.strip().split(\"::\") for i in open('D:/RCS/ml-1m_1/ml-1m/movies.dat', 'r').readlines()]\n",
    "\n",
    "ratings_df = pd.DataFrame(ratings_list, columns = ['UserID', 'MovieID', 'Rating', 'Timestamp'], dtype = int)\n",
    "movies_df = pd.DataFrame(movies_list, columns = ['MovieID', 'Title', 'Genres'])"
   ]
  },
  {
   "cell_type": "code",
   "execution_count": 3,
   "metadata": {},
   "outputs": [
    {
     "data": {
      "text/html": [
       "<div>\n",
       "<style scoped>\n",
       "    .dataframe tbody tr th:only-of-type {\n",
       "        vertical-align: middle;\n",
       "    }\n",
       "\n",
       "    .dataframe tbody tr th {\n",
       "        vertical-align: top;\n",
       "    }\n",
       "\n",
       "    .dataframe thead th {\n",
       "        text-align: right;\n",
       "    }\n",
       "</style>\n",
       "<table border=\"1\" class=\"dataframe\">\n",
       "  <thead>\n",
       "    <tr style=\"text-align: right;\">\n",
       "      <th></th>\n",
       "      <th>UserID</th>\n",
       "      <th>MovieID</th>\n",
       "      <th>Rating</th>\n",
       "      <th>Timestamp</th>\n",
       "    </tr>\n",
       "  </thead>\n",
       "  <tbody>\n",
       "    <tr>\n",
       "      <th>0</th>\n",
       "      <td>1</td>\n",
       "      <td>1193</td>\n",
       "      <td>5</td>\n",
       "      <td>978300760</td>\n",
       "    </tr>\n",
       "    <tr>\n",
       "      <th>1</th>\n",
       "      <td>1</td>\n",
       "      <td>661</td>\n",
       "      <td>3</td>\n",
       "      <td>978302109</td>\n",
       "    </tr>\n",
       "    <tr>\n",
       "      <th>2</th>\n",
       "      <td>1</td>\n",
       "      <td>914</td>\n",
       "      <td>3</td>\n",
       "      <td>978301968</td>\n",
       "    </tr>\n",
       "    <tr>\n",
       "      <th>3</th>\n",
       "      <td>1</td>\n",
       "      <td>3408</td>\n",
       "      <td>4</td>\n",
       "      <td>978300275</td>\n",
       "    </tr>\n",
       "    <tr>\n",
       "      <th>4</th>\n",
       "      <td>1</td>\n",
       "      <td>2355</td>\n",
       "      <td>5</td>\n",
       "      <td>978824291</td>\n",
       "    </tr>\n",
       "  </tbody>\n",
       "</table>\n",
       "</div>"
      ],
      "text/plain": [
       "  UserID MovieID Rating  Timestamp\n",
       "0      1    1193      5  978300760\n",
       "1      1     661      3  978302109\n",
       "2      1     914      3  978301968\n",
       "3      1    3408      4  978300275\n",
       "4      1    2355      5  978824291"
      ]
     },
     "execution_count": 3,
     "metadata": {},
     "output_type": "execute_result"
    }
   ],
   "source": [
    "movies_df.head()\n",
    "ratings_df.head()"
   ]
  },
  {
   "cell_type": "code",
   "execution_count": 4,
   "metadata": {},
   "outputs": [
    {
     "data": {
      "text/html": [
       "<div>\n",
       "<style scoped>\n",
       "    .dataframe tbody tr th:only-of-type {\n",
       "        vertical-align: middle;\n",
       "    }\n",
       "\n",
       "    .dataframe tbody tr th {\n",
       "        vertical-align: top;\n",
       "    }\n",
       "\n",
       "    .dataframe thead th {\n",
       "        text-align: right;\n",
       "    }\n",
       "</style>\n",
       "<table border=\"1\" class=\"dataframe\">\n",
       "  <thead>\n",
       "    <tr style=\"text-align: right;\">\n",
       "      <th>MovieID</th>\n",
       "      <th>1</th>\n",
       "      <th>10</th>\n",
       "      <th>100</th>\n",
       "      <th>1000</th>\n",
       "      <th>1002</th>\n",
       "      <th>1003</th>\n",
       "      <th>1004</th>\n",
       "      <th>1005</th>\n",
       "      <th>1006</th>\n",
       "      <th>1007</th>\n",
       "      <th>...</th>\n",
       "      <th>99</th>\n",
       "      <th>990</th>\n",
       "      <th>991</th>\n",
       "      <th>992</th>\n",
       "      <th>993</th>\n",
       "      <th>994</th>\n",
       "      <th>996</th>\n",
       "      <th>997</th>\n",
       "      <th>998</th>\n",
       "      <th>999</th>\n",
       "    </tr>\n",
       "    <tr>\n",
       "      <th>UserID</th>\n",
       "      <th></th>\n",
       "      <th></th>\n",
       "      <th></th>\n",
       "      <th></th>\n",
       "      <th></th>\n",
       "      <th></th>\n",
       "      <th></th>\n",
       "      <th></th>\n",
       "      <th></th>\n",
       "      <th></th>\n",
       "      <th></th>\n",
       "      <th></th>\n",
       "      <th></th>\n",
       "      <th></th>\n",
       "      <th></th>\n",
       "      <th></th>\n",
       "      <th></th>\n",
       "      <th></th>\n",
       "      <th></th>\n",
       "      <th></th>\n",
       "      <th></th>\n",
       "    </tr>\n",
       "  </thead>\n",
       "  <tbody>\n",
       "    <tr>\n",
       "      <th>1</th>\n",
       "      <td>5</td>\n",
       "      <td>0</td>\n",
       "      <td>0</td>\n",
       "      <td>0</td>\n",
       "      <td>0</td>\n",
       "      <td>0</td>\n",
       "      <td>0</td>\n",
       "      <td>0</td>\n",
       "      <td>0</td>\n",
       "      <td>0</td>\n",
       "      <td>...</td>\n",
       "      <td>0</td>\n",
       "      <td>0</td>\n",
       "      <td>0</td>\n",
       "      <td>0</td>\n",
       "      <td>0</td>\n",
       "      <td>0</td>\n",
       "      <td>0</td>\n",
       "      <td>0</td>\n",
       "      <td>0</td>\n",
       "      <td>0</td>\n",
       "    </tr>\n",
       "    <tr>\n",
       "      <th>10</th>\n",
       "      <td>5</td>\n",
       "      <td>0</td>\n",
       "      <td>0</td>\n",
       "      <td>0</td>\n",
       "      <td>0</td>\n",
       "      <td>0</td>\n",
       "      <td>0</td>\n",
       "      <td>0</td>\n",
       "      <td>0</td>\n",
       "      <td>0</td>\n",
       "      <td>...</td>\n",
       "      <td>0</td>\n",
       "      <td>0</td>\n",
       "      <td>0</td>\n",
       "      <td>0</td>\n",
       "      <td>0</td>\n",
       "      <td>0</td>\n",
       "      <td>0</td>\n",
       "      <td>0</td>\n",
       "      <td>0</td>\n",
       "      <td>0</td>\n",
       "    </tr>\n",
       "    <tr>\n",
       "      <th>100</th>\n",
       "      <td>0</td>\n",
       "      <td>0</td>\n",
       "      <td>0</td>\n",
       "      <td>0</td>\n",
       "      <td>0</td>\n",
       "      <td>0</td>\n",
       "      <td>0</td>\n",
       "      <td>0</td>\n",
       "      <td>0</td>\n",
       "      <td>0</td>\n",
       "      <td>...</td>\n",
       "      <td>0</td>\n",
       "      <td>0</td>\n",
       "      <td>0</td>\n",
       "      <td>0</td>\n",
       "      <td>0</td>\n",
       "      <td>0</td>\n",
       "      <td>0</td>\n",
       "      <td>0</td>\n",
       "      <td>0</td>\n",
       "      <td>0</td>\n",
       "    </tr>\n",
       "    <tr>\n",
       "      <th>1000</th>\n",
       "      <td>5</td>\n",
       "      <td>0</td>\n",
       "      <td>0</td>\n",
       "      <td>0</td>\n",
       "      <td>0</td>\n",
       "      <td>0</td>\n",
       "      <td>0</td>\n",
       "      <td>0</td>\n",
       "      <td>0</td>\n",
       "      <td>0</td>\n",
       "      <td>...</td>\n",
       "      <td>0</td>\n",
       "      <td>0</td>\n",
       "      <td>0</td>\n",
       "      <td>0</td>\n",
       "      <td>0</td>\n",
       "      <td>0</td>\n",
       "      <td>0</td>\n",
       "      <td>0</td>\n",
       "      <td>0</td>\n",
       "      <td>0</td>\n",
       "    </tr>\n",
       "    <tr>\n",
       "      <th>1001</th>\n",
       "      <td>4</td>\n",
       "      <td>0</td>\n",
       "      <td>0</td>\n",
       "      <td>0</td>\n",
       "      <td>0</td>\n",
       "      <td>0</td>\n",
       "      <td>0</td>\n",
       "      <td>0</td>\n",
       "      <td>0</td>\n",
       "      <td>0</td>\n",
       "      <td>...</td>\n",
       "      <td>0</td>\n",
       "      <td>0</td>\n",
       "      <td>0</td>\n",
       "      <td>0</td>\n",
       "      <td>0</td>\n",
       "      <td>0</td>\n",
       "      <td>0</td>\n",
       "      <td>0</td>\n",
       "      <td>0</td>\n",
       "      <td>0</td>\n",
       "    </tr>\n",
       "  </tbody>\n",
       "</table>\n",
       "<p>5 rows × 3706 columns</p>\n",
       "</div>"
      ],
      "text/plain": [
       "MovieID  1 10 100 1000 1002 1003 1004 1005 1006 1007  ... 99 990 991 992 993  \\\n",
       "UserID                                                ...                      \n",
       "1        5  0   0    0    0    0    0    0    0    0  ...  0   0   0   0   0   \n",
       "10       5  0   0    0    0    0    0    0    0    0  ...  0   0   0   0   0   \n",
       "100      0  0   0    0    0    0    0    0    0    0  ...  0   0   0   0   0   \n",
       "1000     5  0   0    0    0    0    0    0    0    0  ...  0   0   0   0   0   \n",
       "1001     4  0   0    0    0    0    0    0    0    0  ...  0   0   0   0   0   \n",
       "\n",
       "MovieID 994 996 997 998 999  \n",
       "UserID                       \n",
       "1         0   0   0   0   0  \n",
       "10        0   0   0   0   0  \n",
       "100       0   0   0   0   0  \n",
       "1000      0   0   0   0   0  \n",
       "1001      0   0   0   0   0  \n",
       "\n",
       "[5 rows x 3706 columns]"
      ]
     },
     "execution_count": 4,
     "metadata": {},
     "output_type": "execute_result"
    }
   ],
   "source": [
    "R_df = ratings_df.pivot(index = 'UserID', columns ='MovieID', values = 'Rating').fillna(0)\n",
    "R_df.head()"
   ]
  },
  {
   "cell_type": "code",
   "execution_count": 5,
   "metadata": {},
   "outputs": [
    {
     "name": "stdout",
     "output_type": "stream",
     "text": [
      "[['5' 0 0 ... 0 0 0]\n",
      " ['5' 0 0 ... 0 0 0]\n",
      " [0 0 0 ... 0 0 0]\n",
      " ...\n",
      " ['4' 0 0 ... 0 0 0]\n",
      " [0 0 0 ... 0 0 0]\n",
      " [0 0 0 ... 0 0 0]]\n",
      "[0.05990286 0.44522396 0.06206152 ... 0.03184026 0.15002698 0.35429034]\n"
     ]
    }
   ],
   "source": [
    "import numpy\n",
    "numpy.set_printoptions(suppress=False)\n",
    "R = R_df.to_numpy()\n",
    "print(R)\n",
    "#position = numpy.where(R == 0)[0]\n",
    "#pos = list(zip(*np.nonzero(R)))\n",
    "pos = np.transpose(np.nonzero(R))\n",
    "user_ratings_mean = np.mean(R.astype(int), axis = 1)\n",
    "print(user_ratings_mean)\n",
    "R_demeaned = R.astype(int) - user_ratings_mean.reshape(-1, 1)"
   ]
  },
  {
   "cell_type": "code",
   "execution_count": 6,
   "metadata": {},
   "outputs": [],
   "source": [
    "from scipy.sparse.linalg import svds\n",
    "U, sigma, Vt = svds(R_demeaned, k = 50)"
   ]
  },
  {
   "cell_type": "code",
   "execution_count": 7,
   "metadata": {},
   "outputs": [],
   "source": [
    "sigma = np.diag(sigma)"
   ]
  },
  {
   "cell_type": "code",
   "execution_count": 8,
   "metadata": {},
   "outputs": [
    {
     "name": "stdout",
     "output_type": "stream",
     "text": [
      "[[ 4.28886061e+00 -1.95949954e-01  5.97905159e-02 ...  3.69448331e-02\n",
      "   6.05339706e-02  5.07522018e-02]\n",
      " [ 4.51691241e+00  9.42799641e-01 -1.85102236e-01 ... -1.14662683e-01\n",
      "  -1.53838225e-01 -2.73472961e-01]\n",
      " [-7.85461022e-02  9.07656597e-01 -1.24355693e-02 ...  2.40143123e-02\n",
      "  -1.50433388e-03 -2.77038221e-02]\n",
      " ...\n",
      " [ 2.51096600e+00 -7.73346045e-03 -9.30083673e-02 ...  2.92685658e-02\n",
      "  -1.09956651e-02 -2.10282212e-01]\n",
      " [ 1.96157517e+00 -3.36833956e-01  1.24358241e-02 ...  1.70794645e-01\n",
      "   5.40658314e-02 -1.75652918e-01]\n",
      " [ 1.32156042e-01  2.83102525e+00  9.24648755e-01 ... -3.50771301e-02\n",
      "   5.57506501e-01  4.92852217e-01]]\n",
      "[[ 4.29 -0.2   0.06 ...  0.04  0.06  0.05]\n",
      " [ 4.52  0.94 -0.19 ... -0.11 -0.15 -0.27]\n",
      " [-0.08  0.91 -0.01 ...  0.02 -0.   -0.03]\n",
      " ...\n",
      " [ 2.51 -0.01 -0.09 ...  0.03 -0.01 -0.21]\n",
      " [ 1.96 -0.34  0.01 ...  0.17  0.05 -0.18]\n",
      " [ 0.13  2.83  0.92 ... -0.04  0.56  0.49]]\n"
     ]
    }
   ],
   "source": [
    "all_user_predicted_ratings = np.dot(np.dot(U, sigma), Vt) + user_ratings_mean.reshape(-1, 1)\n",
    "preds_df = pd.DataFrame(all_user_predicted_ratings, columns = R_df.columns)\n",
    "\n",
    "print(all_user_predicted_ratings)\n",
    "prediction_rounded = np.round(all_user_predicted_ratings, 2)\n",
    "print(prediction_rounded)"
   ]
  },
  {
   "cell_type": "markdown",
   "metadata": {},
   "source": [
    "# CONVEX OPTIMIZATION"
   ]
  },
  {
   "cell_type": "code",
   "execution_count": 9,
   "metadata": {},
   "outputs": [
    {
     "name": "stderr",
     "output_type": "stream",
     "text": [
      "<ipython-input-9-b9dbb2dba82a>:8: ParserWarning: Falling back to the 'python' engine because the 'c' engine does not support regex separators (separators > 1 char and different from '\\s+' are interpreted as regex); you can avoid this warning by specifying engine='python'.\n",
      "  ratings = pd.read_table(\"D:/RCS/simple-exp-50/simple-exp-50/rating1.dat\", header=None, sep=\"::\", names=ratingsNames)\n",
      "<ipython-input-9-b9dbb2dba82a>:9: ParserWarning: Falling back to the 'python' engine because the 'c' engine does not support regex separators (separators > 1 char and different from '\\s+' are interpreted as regex); you can avoid this warning by specifying engine='python'.\n",
      "  users = pd.read_table(\"D:/RCS/simple-exp-50/simple-exp-50/user1.dat\", header=None, sep=\"::\", names=usersNames)\n",
      "<ipython-input-9-b9dbb2dba82a>:10: ParserWarning: Falling back to the 'python' engine because the 'c' engine does not support regex separators (separators > 1 char and different from '\\s+' are interpreted as regex); you can avoid this warning by specifying engine='python'.\n",
      "  movies = pd.read_table(\"D:/RCS/simple-exp-50/simple-exp-50/mov1.dat\", header=None, sep=\"::\", names=moviesNames)\n"
     ]
    }
   ],
   "source": [
    "import pandas as pd\n",
    "import numpy as np\n",
    "\n",
    "ratingsNames = [\"userId\", \"movieId\", \"rating\", \"timestamp\"]\n",
    "usersNames = [\"userId\", \"gender\", \"age\", \"occupation\", \"zipCode\"]\n",
    "moviesNames = [\"movieId\", \"title\", \"genres\"]\n",
    "\n",
    "ratings = pd.read_table(\"D:/RCS/simple-exp-50/simple-exp-50/rating1.dat\", header=None, sep=\"::\", names=ratingsNames)\n",
    "users = pd.read_table(\"D:/RCS/simple-exp-50/simple-exp-50/user1.dat\", header=None, sep=\"::\", names=usersNames)\n",
    "movies = pd.read_table(\"D:/RCS/simple-exp-50/simple-exp-50/mov1.dat\", header=None, sep=\"::\", names=moviesNames)\n",
    "\n",
    "#ratings = pd.read_table(\"ml-1m/ratings.dat\", header=None, sep=\"::\", names=ratingsNames)\n",
    "#users = pd.read_table(\"ml-1m/users.dat\", header=None, sep=\"::\", names=usersNames)\n",
    "#movies = pd.read_table(\"ml-1m/movies.dat\", header=None, sep=\"::\", names=moviesNames)\n",
    "\n",
    "#ratings = pd.read_table(\"ml-1L/ratings.csv\", header=None, sep=\",\", names=ratingsNames)\n",
    "\n",
    "ratingsMatrix = ratings.pivot_table(columns=['movieId'], index =['userId'], values='rating', dropna = False)\n",
    "\n",
    "ratingsMatrix = ratingsMatrix.fillna(0).values  #ratingsMatrix.fillna(0).as_matrix() deprecated\n",
    "\n",
    "#ratingsMatrix = abs(ratingsMatrix)\n",
    "\n"
   ]
  },
  {
   "cell_type": "code",
   "execution_count": 10,
   "metadata": {},
   "outputs": [
    {
     "name": "stdout",
     "output_type": "stream",
     "text": [
      "Rating Matrix:\n",
      " [[5 2 2 5 2 2 3 1 0 5]\n",
      " [0 2 5 3 3 6 0 3 5 4]\n",
      " [4 4 5 0 4 4 5 4 0 4]\n",
      " [5 4 0 3 5 0 4 5 3 5]\n",
      " [3 4 4 4 4 0 3 5 4 4]]\n"
     ]
    }
   ],
   "source": [
    "print(\"Rating Matrix:\\n\",ratingsMatrix) "
   ]
  },
  {
   "cell_type": "code",
   "execution_count": 11,
   "metadata": {},
   "outputs": [
    {
     "name": "stdout",
     "output_type": "stream",
     "text": [
      "#row of M    : 5\n",
      "#column of M : 10\n",
      "M\n",
      " [[5 2 2 5 2 2 3 1 0 5]\n",
      " [0 2 5 3 3 6 0 3 5 4]\n",
      " [4 4 5 0 4 4 5 4 0 4]\n",
      " [5 4 0 3 5 0 4 5 3 5]\n",
      " [3 4 4 4 4 0 3 5 4 4]]\n",
      "|M|_*        : 44.66433654896476\n",
      "RANK of M    : 5\n",
      "Output matrix X\n",
      " [[5.         2.         2.         5.         2.         2.\n",
      "  3.         1.         2.11405979 5.        ]\n",
      " [2.89118536 2.         5.         3.         3.         6.\n",
      "  3.52788915 3.         5.         4.        ]\n",
      " [4.         4.         5.         3.07475708 4.         4.\n",
      "  5.         4.         3.62605359 4.        ]\n",
      " [5.         4.         4.02390003 3.         5.         3.15031426\n",
      "  4.         5.         3.         5.        ]\n",
      " [3.         4.         4.         4.         4.         3.55791689\n",
      "  3.         5.         4.         4.        ]]\n",
      "[[5.    2.    2.    5.    2.    2.    3.    1.    2.114 5.   ]\n",
      " [2.891 2.    5.    3.    3.    6.    3.528 3.    5.    4.   ]\n",
      " [4.    4.    5.    3.075 4.    4.    5.    4.    3.626 4.   ]\n",
      " [5.    4.    4.024 3.    5.    3.15  4.    5.    3.    5.   ]\n",
      " [3.    4.    4.    4.    4.    3.558 3.    5.    4.    4.   ]]\n",
      "After rounding X\n",
      " [[5. 2. 2. 5. 2. 2. 3. 1. 2. 5.]\n",
      " [3. 2. 5. 3. 3. 6. 4. 3. 5. 4.]\n",
      " [4. 4. 5. 3. 4. 4. 5. 4. 4. 4.]\n",
      " [5. 4. 4. 3. 5. 3. 4. 5. 3. 5.]\n",
      " [3. 4. 4. 4. 4. 4. 3. 5. 4. 4.]]\n",
      "RANK of X    : 5\n",
      "|X|_*        : 38.616730694628615\n"
     ]
    }
   ],
   "source": [
    "import random\n",
    "import math\n",
    "import itertools\n",
    "from cvxpy import *\n",
    "\n",
    "def _solve(M, omega):\n",
    "    n_1 = M.shape[0]\n",
    "    n_2 = M.shape[1]\n",
    "    X_ = Variable((n_1 + n_2, n_1 + n_2), PSD=True)\n",
    "    objective = Minimize(trace(X_))\n",
    "    constraints=[]\n",
    "    for i, j in omega:\n",
    "        constr = (X_[i, j + n_1] == M[i, j])\n",
    "        constraints.append(constr)\n",
    "    problem = Problem(objective, constraints)\n",
    "    problem.solve(solver=CVXOPT)\n",
    "\n",
    "    X0 = X_.value\n",
    "    return X_.value[:n_1, n_1:]\n",
    "\n",
    "\n",
    "def _get_mask_matrix(n_1, n_2, omega):\n",
    "    \"\"\"\n",
    "    If we observed entry (i, j) of matrix M, the entry of mask matrix is 1,\n",
    "    Otherwise 0.\n",
    "    \"\"\"\n",
    "    mask = np.zeros((n_1, n_2), dtype=np.int8)\n",
    "    for i, j in omega:\n",
    "        mask[i, j] = 1\n",
    "    return mask\n",
    "\n",
    "\n",
    "def _get_abs_max_from_matrix(M):\n",
    "    return np.max(np.absolute(M))\n",
    "\n",
    "def main(n_1, n_2):\n",
    "    print(\"#row of M    :\", n_1)\n",
    "    print(\"#column of M :\", n_2)\n",
    "    M = ratingsMatrix\n",
    "    print(\"M\\n\",M)\n",
    "    M_abs_max = _get_abs_max_from_matrix(M)\n",
    "    print(\"|M|_*        :\", np.linalg.norm(M, \"nuc\"))\n",
    "    M_rank = np.linalg.matrix_rank(M)\n",
    "    print(\"RANK of M    :\", M_rank)\n",
    "   \n",
    "    omega = np.transpose(np.nonzero(ratingsMatrix))\n",
    "    mask = _get_mask_matrix(n_1, n_2, omega)\n",
    "\n",
    "    M_ = M.copy()\n",
    "    np.place(M_, 1 - mask, M_abs_max * M_abs_max)\n",
    "    X = _solve(M_, omega)\n",
    "    print(\"Output matrix X\\n\",X)\n",
    "    prediction_rounded = np.round(X, 3)\n",
    "    print(prediction_rounded)\n",
    "    X = X.round(decimals=0,out=None)\n",
    "    print(\"After rounding X\\n\",X)\n",
    "    X_rank = np.linalg.matrix_rank(X)\n",
    "    print(\"RANK of X    :\", X_rank)\n",
    "    print(\"|X|_*        :\", np.linalg.norm(X, \"nuc\"))\n",
    "\n",
    "if __name__ == '__main__':\n",
    "\n",
    "    p = 0.8\n",
    "    n_1 = ratingsMatrix.shape[0]\n",
    "    n_2 = ratingsMatrix.shape[1]\n",
    "    \n",
    "    main(n_1, n_2)\n"
   ]
  },
  {
   "cell_type": "markdown",
   "metadata": {},
   "source": [
    "# NMF"
   ]
  },
  {
   "cell_type": "code",
   "execution_count": 1,
   "metadata": {},
   "outputs": [
    {
     "name": "stdout",
     "output_type": "stream",
     "text": [
      "Rating Matrix:\n",
      " [[5. 3. 4. ... 0. 0. 0.]\n",
      " [4. 0. 0. ... 0. 0. 0.]\n",
      " [0. 0. 0. ... 0. 0. 0.]\n",
      " ...\n",
      " [5. 0. 0. ... 0. 0. 0.]\n",
      " [0. 0. 0. ... 0. 0. 0.]\n",
      " [0. 5. 0. ... 0. 0. 0.]]\n",
      "(943, 1682)\n"
     ]
    }
   ],
   "source": [
    "import pandas as pd\n",
    "import numpy as np\n",
    "\n",
    "ratingsNames = [\"userId\", \"movieId\", \"rating\", \"timestamp\"]\n",
    "usersNames = [\"userId\", \"gender\", \"age\", \"occupation\", \"zipCode\"]\n",
    "moviesNames = [\"movieId\", \"title\", \"genres\"]\n",
    "\n",
    "#ratings = pd.read_table(\"simple-exp/rating1.dat\", header=None, sep=\"::\", names=ratingsNames)\n",
    "#users = pd.read_table(\"simple-exp/user1.dat\", header=None, sep=\"::\", names=usersNames)\n",
    "#movies = pd.read_table(\"simple-exp/mov1.dat\", header=None, sep=\"::\", names=moviesNames)\n",
    "\n",
    "#ratings = pd.read_table(\"ml-1m/ratings.dat\", header=None, sep=\"::\", names=ratingsNames)\n",
    "#users = pd.read_table(\"ml-1m/users.dat\", header=None, sep=\"::\", names=usersNames)\n",
    "#movies = pd.read_table(\"ml-1m/movies.dat\", header=None, sep=\"::\", names=moviesNames)\n",
    "\n",
    "ratings = pd.read_table(\"D:/RCS/ml-1L_1/ml-1L/ratings.csv\", header=None, sep=\",\", names=ratingsNames)\n",
    "\n",
    "ratingsMatrix = ratings.pivot_table(columns=['movieId'], index =['userId'], values='rating', dropna = False)\n",
    "\n",
    "ratingsMatrix = ratingsMatrix.fillna(0).values  #ratingsMatrix.fillna(0).as_matrix() deprecated\n",
    "\n",
    "\n",
    "\n",
    "print(\"Rating Matrix:\\n\",ratingsMatrix) \n",
    "print(ratingsMatrix.shape)"
   ]
  },
  {
   "cell_type": "code",
   "execution_count": 2,
   "metadata": {},
   "outputs": [],
   "source": [
    "K = 3\n",
    "M=943\n",
    "N=1682\n",
    "#M = 5\n",
    "#N = 10\n",
    "W = np.abs(np.random.uniform(low=0, high=6, size=(M, K)))\n",
    "H = np.abs(np.random.uniform(low=0, high=6, size=(K, N)))\n",
    "W = np.divide(W, K*W.max())\n",
    "H = np.divide(H, K*H.max())"
   ]
  },
  {
   "cell_type": "code",
   "execution_count": 3,
   "metadata": {},
   "outputs": [
    {
     "data": {
      "text/html": [
       "<div>\n",
       "<style scoped>\n",
       "    .dataframe tbody tr th:only-of-type {\n",
       "        vertical-align: middle;\n",
       "    }\n",
       "\n",
       "    .dataframe tbody tr th {\n",
       "        vertical-align: top;\n",
       "    }\n",
       "\n",
       "    .dataframe thead th {\n",
       "        text-align: right;\n",
       "    }\n",
       "</style>\n",
       "<table border=\"1\" class=\"dataframe\">\n",
       "  <thead>\n",
       "    <tr style=\"text-align: right;\">\n",
       "      <th></th>\n",
       "      <th>0</th>\n",
       "      <th>1</th>\n",
       "      <th>2</th>\n",
       "      <th>3</th>\n",
       "      <th>4</th>\n",
       "      <th>5</th>\n",
       "      <th>6</th>\n",
       "      <th>7</th>\n",
       "      <th>8</th>\n",
       "      <th>9</th>\n",
       "      <th>...</th>\n",
       "      <th>1672</th>\n",
       "      <th>1673</th>\n",
       "      <th>1674</th>\n",
       "      <th>1675</th>\n",
       "      <th>1676</th>\n",
       "      <th>1677</th>\n",
       "      <th>1678</th>\n",
       "      <th>1679</th>\n",
       "      <th>1680</th>\n",
       "      <th>1681</th>\n",
       "    </tr>\n",
       "  </thead>\n",
       "  <tbody>\n",
       "    <tr>\n",
       "      <th>0</th>\n",
       "      <td>0.034300</td>\n",
       "      <td>0.017932</td>\n",
       "      <td>0.213954</td>\n",
       "      <td>0.110663</td>\n",
       "      <td>0.206030</td>\n",
       "      <td>0.238177</td>\n",
       "      <td>0.167598</td>\n",
       "      <td>0.287674</td>\n",
       "      <td>0.120902</td>\n",
       "      <td>0.265311</td>\n",
       "      <td>...</td>\n",
       "      <td>0.170003</td>\n",
       "      <td>0.109148</td>\n",
       "      <td>0.113117</td>\n",
       "      <td>0.165535</td>\n",
       "      <td>0.065695</td>\n",
       "      <td>0.079072</td>\n",
       "      <td>0.027016</td>\n",
       "      <td>0.219867</td>\n",
       "      <td>0.287233</td>\n",
       "      <td>0.234151</td>\n",
       "    </tr>\n",
       "    <tr>\n",
       "      <th>1</th>\n",
       "      <td>0.157213</td>\n",
       "      <td>0.232127</td>\n",
       "      <td>0.243930</td>\n",
       "      <td>0.095776</td>\n",
       "      <td>0.093042</td>\n",
       "      <td>0.261709</td>\n",
       "      <td>0.000273</td>\n",
       "      <td>0.316511</td>\n",
       "      <td>0.182870</td>\n",
       "      <td>0.092575</td>\n",
       "      <td>...</td>\n",
       "      <td>0.280832</td>\n",
       "      <td>0.299816</td>\n",
       "      <td>0.105586</td>\n",
       "      <td>0.280843</td>\n",
       "      <td>0.171986</td>\n",
       "      <td>0.263104</td>\n",
       "      <td>0.095136</td>\n",
       "      <td>0.269477</td>\n",
       "      <td>0.054159</td>\n",
       "      <td>0.012566</td>\n",
       "    </tr>\n",
       "    <tr>\n",
       "      <th>2</th>\n",
       "      <td>0.009780</td>\n",
       "      <td>0.330839</td>\n",
       "      <td>0.083603</td>\n",
       "      <td>0.210421</td>\n",
       "      <td>0.084729</td>\n",
       "      <td>0.174853</td>\n",
       "      <td>0.192945</td>\n",
       "      <td>0.149711</td>\n",
       "      <td>0.049144</td>\n",
       "      <td>0.032896</td>\n",
       "      <td>...</td>\n",
       "      <td>0.168974</td>\n",
       "      <td>0.237087</td>\n",
       "      <td>0.314376</td>\n",
       "      <td>0.200045</td>\n",
       "      <td>0.125124</td>\n",
       "      <td>0.000013</td>\n",
       "      <td>0.068548</td>\n",
       "      <td>0.073004</td>\n",
       "      <td>0.159150</td>\n",
       "      <td>0.325379</td>\n",
       "    </tr>\n",
       "  </tbody>\n",
       "</table>\n",
       "<p>3 rows × 1682 columns</p>\n",
       "</div>"
      ],
      "text/plain": [
       "       0         1         2         3         4         5         6     \\\n",
       "0  0.034300  0.017932  0.213954  0.110663  0.206030  0.238177  0.167598   \n",
       "1  0.157213  0.232127  0.243930  0.095776  0.093042  0.261709  0.000273   \n",
       "2  0.009780  0.330839  0.083603  0.210421  0.084729  0.174853  0.192945   \n",
       "\n",
       "       7         8         9     ...      1672      1673      1674      1675  \\\n",
       "0  0.287674  0.120902  0.265311  ...  0.170003  0.109148  0.113117  0.165535   \n",
       "1  0.316511  0.182870  0.092575  ...  0.280832  0.299816  0.105586  0.280843   \n",
       "2  0.149711  0.049144  0.032896  ...  0.168974  0.237087  0.314376  0.200045   \n",
       "\n",
       "       1676      1677      1678      1679      1680      1681  \n",
       "0  0.065695  0.079072  0.027016  0.219867  0.287233  0.234151  \n",
       "1  0.171986  0.263104  0.095136  0.269477  0.054159  0.012566  \n",
       "2  0.125124  0.000013  0.068548  0.073004  0.159150  0.325379  \n",
       "\n",
       "[3 rows x 1682 columns]"
      ]
     },
     "execution_count": 3,
     "metadata": {},
     "output_type": "execute_result"
    }
   ],
   "source": [
    "pd.DataFrame(W).head()\n",
    "pd.DataFrame(H).head()"
   ]
  },
  {
   "cell_type": "code",
   "execution_count": 4,
   "metadata": {},
   "outputs": [],
   "source": [
    "def cost(ratingsMatrix, W, H):\n",
    "    from numpy import linalg\n",
    "    WH = np.dot(W, H)\n",
    "    A_WH = ratingsMatrix-WH\n",
    "    return linalg.norm(A_WH, 'fro')"
   ]
  },
  {
   "cell_type": "code",
   "execution_count": 5,
   "metadata": {},
   "outputs": [
    {
     "data": {
      "text/plain": [
       "1152.2745753138902"
      ]
     },
     "execution_count": 5,
     "metadata": {},
     "output_type": "execute_result"
    }
   ],
   "source": [
    "cost(ratingsMatrix, W, H)"
   ]
  },
  {
   "cell_type": "code",
   "execution_count": 6,
   "metadata": {},
   "outputs": [],
   "source": [
    "def cost(ratingsMatrix, W, H):\n",
    "    from numpy import linalg\n",
    "    mask = pd.DataFrame(ratingsMatrix).notnull().values\n",
    "    WH = np.dot(W, H)\n",
    "    WH_mask = WH[mask]\n",
    "    A_mask = ratingsMatrix[mask]\n",
    "    A_WH_mask = A_mask-WH_mask\n",
    "    # Since now A_WH_mask is a vector, we use L2 instead of Frobenius norm for matrix\n",
    "    return linalg.norm(A_WH_mask, 2)"
   ]
  },
  {
   "cell_type": "code",
   "execution_count": 7,
   "metadata": {},
   "outputs": [
    {
     "data": {
      "text/plain": [
       "1152.2745753138902"
      ]
     },
     "execution_count": 7,
     "metadata": {},
     "output_type": "execute_result"
    }
   ],
   "source": [
    "cost(ratingsMatrix, W, H)"
   ]
  },
  {
   "cell_type": "code",
   "execution_count": 10,
   "metadata": {},
   "outputs": [
    {
     "name": "stdout",
     "output_type": "stream",
     "text": [
      "5\n",
      "[[5. 3. 4. ... 0. 0. 0.]\n",
      " [4. 0. 0. ... 0. 0. 0.]\n",
      " [0. 0. 0. ... 0. 0. 0.]\n",
      " ...\n",
      " [5. 0. 0. ... 0. 0. 0.]\n",
      " [0. 0. 0. ... 0. 0. 0.]\n",
      " [0. 5. 0. ... 0. 0. 0.]]\n",
      "[[3.83715158e+00 1.74334778e+00 8.35833932e-01 ... 3.23064409e-03\n",
      "  1.60573571e-02 1.51345718e-02]\n",
      " [2.01223716e+00 0.00000000e+00 4.42233079e-01 ... 8.58562902e-03\n",
      "  8.76727822e-05 1.91998487e-04]\n",
      " [9.71407498e-01 0.00000000e+00 2.16933089e-01 ... 4.21159591e-03\n",
      "  0.00000000e+00 0.00000000e+00]\n",
      " ...\n",
      " [9.33317462e-01 9.12590690e-02 2.14409558e-01 ... 3.48227766e-03\n",
      "  7.53503672e-04 6.01612563e-04]\n",
      " [1.26617702e+00 1.65297077e-01 2.01777508e-01 ... 2.68509097e-03\n",
      "  2.49285512e-03 3.56003745e-03]\n",
      " [2.84390032e+00 1.90885770e+00 7.50997887e-01 ... 3.49757643e-04\n",
      "  1.58744381e-02 1.28323682e-02]]\n",
      "[[3.84 1.74 0.84 ... 0.   0.02 0.02]\n",
      " [2.01 0.   0.44 ... 0.01 0.   0.  ]\n",
      " [0.97 0.   0.22 ... 0.   0.   0.  ]\n",
      " ...\n",
      " [0.93 0.09 0.21 ... 0.   0.   0.  ]\n",
      " [1.27 0.17 0.2  ... 0.   0.   0.  ]\n",
      " [2.84 1.91 0.75 ... 0.   0.02 0.01]]\n"
     ]
    }
   ],
   "source": [
    "num_iter = 50\n",
    "num_display_cost = max(int(num_iter/10), 1)\n",
    "print(num_display_cost)\n",
    "from scipy.optimize import nnls\n",
    "\n",
    "for i in range(num_iter):\n",
    "    if i%2 ==0:\n",
    "        # Learn H, given A and W\n",
    "        for j in range(N):\n",
    "            mask_rows = pd.Series(ratingsMatrix[:,j]).notnull()\n",
    "            H[:,j] = nnls(W[mask_rows], ratingsMatrix[:,j][mask_rows])[0]\n",
    "    else:\n",
    "        for j in range(M):\n",
    "            mask_rows = pd.Series(ratingsMatrix[j,:]).notnull()\n",
    "            W[j,:] = nnls(H.transpose()[mask_rows], ratingsMatrix[j,:][mask_rows])[0]\n",
    "    WH = np.dot(W, H)\n",
    "  ##  c = cost(ratingsMatrix, W, H)\n",
    "  ##  if i%num_display_cost==0:\n",
    "      ##  print (i, c)\n",
    "print(ratingsMatrix)\n",
    "A_pred = pd.DataFrame(np.dot(W, H))\n",
    "pred = A_pred.to_numpy()\n",
    "print(pred)\n",
    "prediction_rounded = np.round(pred, 2)\n",
    "print(prediction_rounded)"
   ]
  },
  {
   "cell_type": "markdown",
   "metadata": {},
   "source": [
    "# ALS"
   ]
  },
  {
   "cell_type": "code",
   "execution_count": 11,
   "metadata": {},
   "outputs": [
    {
     "name": "stdout",
     "output_type": "stream",
     "text": [
      "A (943, 1682)\n",
      "A [[5. 3. 4. ... 0. 0. 0.]\n",
      " [4. 0. 0. ... 0. 0. 0.]\n",
      " [0. 0. 0. ... 0. 0. 0.]\n",
      " ...\n",
      " [5. 0. 0. ... 0. 0. 0.]\n",
      " [0. 0. 0. ... 0. 0. 0.]\n",
      " [0. 5. 0. ... 0. 0. 0.]]\n",
      "R [[1. 1. 1. ... 0. 0. 0.]\n",
      " [1. 0. 0. ... 0. 0. 0.]\n",
      " [0. 0. 0. ... 0. 0. 0.]\n",
      " ...\n",
      " [1. 0. 0. ... 0. 0. 0.]\n",
      " [0. 0. 0. ... 0. 0. 0.]\n",
      " [0. 1. 0. ... 0. 0. 0.]]\n"
     ]
    }
   ],
   "source": [
    "import pandas as pd\n",
    "import numpy as np\n",
    "\n",
    "ratingsNames = [\"userId\", \"movieId\", \"rating\", \"timestamp\"]\n",
    "usersNames = [\"userId\", \"gender\", \"age\", \"occupation\", \"zipCode\"]\n",
    "moviesNames = [\"movieId\", \"title\", \"genres\"]\n",
    "\n",
    "#ratings = pd.read_table(\"simple-exp-50/rating1.dat\", header=None, sep=\"::\", names=ratingsNames)\n",
    "#users = pd.read_table(\"simple-exp-50/user1.dat\", header=None, sep=\"::\", names=usersNames)\n",
    "#movies = pd.read_table(\"simple-exp-50/mov1.dat\", header=None, sep=\"::\", names=moviesNames)\n",
    "\n",
    "#ratings = pd.read_table(\"ml-1m/ratings.dat\", header=None, sep=\"::\", names=ratingsNames)\n",
    "#users = pd.read_table(\"ml-1m/users.dat\", header=None, sep=\"::\", names=usersNames)\n",
    "#movies = pd.read_table(\"ml-1m/movies.dat\", header=None, sep=\"::\", names=moviesNames)\n",
    "\n",
    "ratings = pd.read_table(\"D:/RCS/ml-1L_1/ml-1L/ratings.csv\", header=None, sep=\",\", names=ratingsNames)\n",
    "\n",
    "ratingsMatrix = ratings.pivot_table(columns=['movieId'], index =['userId'], values='rating', dropna = False)\n",
    "\n",
    "ratingsMatrix = ratingsMatrix.fillna(0).values  #ratingsMatrix.fillna(0).as_matrix() deprecated\n",
    "\n",
    "A = ratingsMatrix\n",
    "print(\"A\",A.shape)\n",
    "R = A>0.5;\n",
    "R[R == True] = 1; \n",
    "R[R == False] = 0;\n",
    "R = R.astype(np.float64, copy=False)\n",
    "\n",
    "print(\"A\",A)\n",
    "print(\"R\",R)\n",
    " \n",
    "def runALS(A, R, n_factors, n_iterations, lambda_):\n",
    "    '''\n",
    "    Runs Alternating Least Squares algorithm in order to calculate matrix.\n",
    "    :param A: User-Item Matrix with ratings\n",
    "    :param R: User-Item Matrix with 1 if there is a rating or 0 if not\n",
    "    :param n_factors: How many factors each of user and item matrix will consider\n",
    "    :param n_iterations: How many times to run algorithm\n",
    "    :param lambda_: Regularization parameter\n",
    "    :return:\n",
    "    '''\n",
    "    lambda_ = 0.1; n_factors = 3; n, m = A.shape; n_iterations = 20\n",
    "    Users = 5 * np.random.rand(n, n_factors)\n",
    "    print(\"Users\",Users)\n",
    "    Items = 5 * np.random.rand(n_factors, m)\n",
    "\n",
    "    def get_error(A, Users, Items, R):\n",
    "        # This calculates the MSE of nonzero elements\n",
    "        return np.sum((R * (A - np.dot(Users, Items))) ** 2) / np.sum(R)\n",
    "\n",
    "    MSE_List = []\n",
    "\n",
    "    print(\"Starting Iterations\")\n",
    "    for iter in range(n_iterations):\n",
    "        for i, Ri in enumerate(R):\n",
    "            Users[i] = np.linalg.solve(np.dot(Items, np.dot(np.diag(Ri), Items.T)) + lambda_ * np.eye(n_factors),\n",
    "                                       np.dot(Items, np.dot(np.diag(Ri), A[i].T))).T\n",
    "\n",
    "        ##print(\"Error after solving for User Matrix:\", get_error(A, Users, Items, R))\n",
    "\n",
    "        for j, Rj in enumerate(R.T):\n",
    "            Items[:,j] = np.linalg.solve(np.dot(Users.T, np.dot(np.diag(Rj), Users)) + lambda_ * np.eye(n_factors),\n",
    "                                     np.dot(Users.T, np.dot(np.diag(Rj), A[:, j])))\n",
    "        ##print(\"Error after solving for Item Matrix:\", get_error(A, Users, Items, R))\n",
    "\n",
    "        MSE_List.append(get_error(A, Users, Items, R))\n",
    "        ##print('%sth iteration is complete...' %  iter)\n",
    "    out = np.dot(Items.T, Users.T).T;\n",
    "    print(\"Out\",out)\n",
    "    return out\n",
    "    \n"
   ]
  },
  {
   "cell_type": "code",
   "execution_count": 12,
   "metadata": {},
   "outputs": [
    {
     "name": "stdout",
     "output_type": "stream",
     "text": [
      "Users [[1.8538838  3.74711472 2.26257205]\n",
      " [4.69382727 4.21483993 3.98177679]\n",
      " [4.18194243 1.36363021 4.1269493 ]\n",
      " ...\n",
      " [1.62159779 0.72805396 1.41485173]\n",
      " [2.71337743 2.55734365 0.47036371]\n",
      " [1.9476997  0.27024697 2.44338958]]\n",
      "Starting Iterations\n",
      "Out [[3.92175418 3.07173139 2.86529095 ... 1.43666554 2.73236619 2.72955766]\n",
      " [3.99040578 2.98080737 1.98282505 ... 1.83145035 3.20027172 2.41112663]\n",
      " [3.1341972  2.62919585 2.86917573 ... 0.87306751 1.80208604 2.18873577]\n",
      " ...\n",
      " [4.40146301 3.52489398 2.94344735 ... 1.65585263 3.01826238 2.64450555]\n",
      " [4.54826983 3.89549722 3.08946527 ... 1.55979377 2.74647603 2.11120398]\n",
      " [3.76429679 3.46607443 4.21021292 ... 0.64347595 1.54907659 2.43421194]]\n"
     ]
    }
   ],
   "source": [
    "out = runALS(A, R, n_factors = 5, n_iterations = 20, lambda_ = .5)"
   ]
  },
  {
   "cell_type": "code",
   "execution_count": 13,
   "metadata": {},
   "outputs": [
    {
     "name": "stdout",
     "output_type": "stream",
     "text": [
      "[[3.922 3.072 2.865 ... 1.437 2.732 2.73 ]\n",
      " [3.99  2.981 1.983 ... 1.831 3.2   2.411]\n",
      " [3.134 2.629 2.869 ... 0.873 1.802 2.189]\n",
      " ...\n",
      " [4.401 3.525 2.943 ... 1.656 3.018 2.645]\n",
      " [4.548 3.895 3.089 ... 1.56  2.746 2.111]\n",
      " [3.764 3.466 4.21  ... 0.643 1.549 2.434]]\n"
     ]
    }
   ],
   "source": [
    "prediction_rounded = np.round(out,3)\n",
    "print(prediction_rounded)"
   ]
  },
  {
   "cell_type": "markdown",
   "metadata": {},
   "source": [
    "# JL lemma plots"
   ]
  },
  {
   "cell_type": "code",
   "execution_count": 14,
   "metadata": {},
   "outputs": [
    {
     "data": {
      "text/plain": [
       "array([ 7894,  9868, 11841])"
      ]
     },
     "execution_count": 14,
     "metadata": {},
     "output_type": "execute_result"
    }
   ],
   "source": [
    "from sklearn.random_projection import johnson_lindenstrauss_min_dim\n",
    "johnson_lindenstrauss_min_dim(n_samples=1e6, eps=0.5)\n",
    "\n",
    "johnson_lindenstrauss_min_dim(n_samples=1e6, eps=[0.5, 0.1, 0.01])\n",
    "\n",
    "johnson_lindenstrauss_min_dim(n_samples=[1e4, 1e5, 1e6], eps=0.1)"
   ]
  },
  {
   "cell_type": "code",
   "execution_count": 15,
   "metadata": {},
   "outputs": [
    {
     "data": {
      "image/png": "[encoded data removed]",
      "text/plain": [
       "<Figure size 432x288 with 1 Axes>"
      ]
     },
     "metadata": {
      "needs_background": "light"
     },
     "output_type": "display_data"
    }
   ],
   "source": [
    "import numpy as np\n",
    "import matplotlib.pyplot as plt\n",
    "# range of admissible distortions\n",
    "eps_range = np.linspace(0.1, 0.99, 5)\n",
    "colors = plt.cm.RdPu(np.linspace(0.3, 1.0, len(eps_range)))\n",
    "\n",
    "# range of number of samples (observation) to embed\n",
    "n_samples_range = np.logspace(1, 9, 9)\n",
    "\n",
    "plt.figure()\n",
    "for eps, color in zip(eps_range, colors):\n",
    "    min_n_components = johnson_lindenstrauss_min_dim(n_samples_range, eps=eps)\n",
    "    plt.loglog(n_samples_range, min_n_components, color=color)\n",
    "\n",
    "plt.legend([\"ε = %0.1f\" % eps for eps in eps_range], loc=\"lower right\")\n",
    "plt.xlabel(\"Number of observations to ε-embed\")\n",
    "plt.ylabel(\"Minimum number of dimensions\")\n",
    "plt.title(\"Johnson-Lindenstrauss bounds:\\nn_samples vs n_components\")\n",
    "plt.savefig(\"eps.pdf\")"
   ]
  },
  {
   "cell_type": "code",
   "execution_count": 16,
   "metadata": {},
   "outputs": [
    {
     "data": {
      "image/png": "[encoded data removed]",
      "text/plain": [
       "<Figure size 432x288 with 1 Axes>"
      ]
     },
     "metadata": {
      "needs_background": "light"
     },
     "output_type": "display_data"
    }
   ],
   "source": [
    "# range of admissible distortions\n",
    "eps_range = np.linspace(0.01, 0.99, 100)\n",
    "\n",
    "# range of number of samples (observation) to embed\n",
    "n_samples_range = np.logspace(2, 6, 5)\n",
    "colors = plt.cm.RdPu(np.linspace(0.3, 1.0, len(n_samples_range)))\n",
    "\n",
    "plt.figure()\n",
    "for n_samples, color in zip(n_samples_range, colors):\n",
    "    min_n_components = johnson_lindenstrauss_min_dim(n_samples, eps=eps_range)\n",
    "    plt.semilogy(eps_range, min_n_components, color=color)\n",
    "\n",
    "plt.legend([\"n_samples = %d\" % n for n in n_samples_range], loc=\"upper right\")\n",
    "plt.xlabel(\"Distortion ε\")\n",
    "plt.ylabel(\"Minimum number of dimensions\")\n",
    "plt.title(\"Johnson-Lindenstrauss bounds:\\nn_components vs ε\")\n",
    "#plt.show()\n",
    "plt.savefig(\"samples.pdf\")"
   ]
  },
  {
   "cell_type": "markdown",
   "metadata": {},
   "source": [
    "# Random Projection"
   ]
  },
  {
   "cell_type": "code",
   "execution_count": 17,
   "metadata": {},
   "outputs": [
    {
     "name": "stdout",
     "output_type": "stream",
     "text": [
      "X [[3.92175418 3.07173139 2.86529095 ... 1.43666554 2.73236619 2.72955766]\n",
      " [3.99040578 2.98080737 1.98282505 ... 1.83145035 3.20027172 2.41112663]\n",
      " [3.1341972  2.62919585 2.86917573 ... 0.87306751 1.80208604 2.18873577]\n",
      " ...\n",
      " [4.40146301 3.52489398 2.94344735 ... 1.65585263 3.01826238 2.64450555]\n",
      " [4.54826983 3.89549722 3.08946527 ... 1.55979377 2.74647603 2.11120398]\n",
      " [3.76429679 3.46607443 4.21021292 ... 0.64347595 1.54907659 2.43421194]]\n",
      "X_new [[ -3.12994528  -0.20705599 -11.45303639 ...   5.4335804    8.65045751\n",
      "   -2.25708696]\n",
      " [ -3.15595455  -0.03759626 -10.93174373 ...   4.82417463   7.50758298\n",
      "   -0.89074252]\n",
      " [ -2.7920327   -0.11555496  -9.010523   ...   4.35585283   7.42681705\n",
      "   -2.6942195 ]\n",
      " ...\n",
      " [ -3.89095584   0.04127044 -11.80581904 ...   5.29134629   8.91906181\n",
      "   -2.1469965 ]\n",
      " [ -4.8155242    0.49164869 -10.51809025 ...   4.27027462   8.43827854\n",
      "   -2.34066079]\n",
      " [ -3.98976975   0.07310118 -10.08586849 ...   4.85581332   9.32798082\n",
      "   -4.42643811]]\n",
      "(943, 1682)\n",
      "(943, 761)\n",
      "[[ -3.13   -0.207 -11.453 ...   5.434   8.65   -2.257]\n",
      " [ -3.156  -0.038 -10.932 ...   4.824   7.508  -0.891]\n",
      " [ -2.792  -0.116  -9.011 ...   4.356   7.427  -2.694]\n",
      " ...\n",
      " [ -3.891   0.041 -11.806 ...   5.291   8.919  -2.147]\n",
      " [ -4.816   0.492 -10.518 ...   4.27    8.438  -2.341]\n",
      " [ -3.99    0.073 -10.086 ...   4.856   9.328  -4.426]]\n"
     ]
    }
   ],
   "source": [
    "import numpy as np\n",
    "from sklearn import random_projection\n",
    "X = out\n",
    "transformer = random_projection.SparseRandomProjection(eps=0.3)\n",
    "X_new = transformer.fit_transform(X)\n",
    "print(\"X\",X)\n",
    "print(\"X_new\",X_new)\n",
    "print(X.shape)\n",
    "print(X_new.shape)\n",
    "prediction_rounded = np.round(X_new,3)\n",
    "print(prediction_rounded)\n"
   ]
  }
 ],
 "metadata": {
  "kernelspec": {
   "display_name": "Python 3",
   "language": "python",
   "name": "python3"
  },
  "language_info": {
   "codemirror_mode": {
    "name": "ipython",
    "version": 3
   },
   "file_extension": ".py",
   "mimetype": "text/x-python",
   "name": "python",
   "nbconvert_exporter": "python",
   "pygments_lexer": "ipython3",
   "version": "3.8.3"
  }
 },
 "nbformat": 4,
 "nbformat_minor": 4
}
